{
 "cells": [
  {
   "cell_type": "code",
   "execution_count": 1,
   "id": "1c2e78bf-1f85-48af-8f11-0a20f356b0d3",
   "metadata": {},
   "outputs": [
    {
     "name": "stdin",
     "output_type": "stream",
     "text": [
      "enter a string shashidhar\n"
     ]
    },
    {
     "name": "stdout",
     "output_type": "stream",
     "text": [
      "vowels of given word are 3\n",
      "consonants of given word are 7\n"
     ]
    }
   ],
   "source": [
    "#question 1 \n",
    "text = input (\"enter a string\")\n",
    "vowels =\"aeiou\"\n",
    "v_count=c_count = 0\n",
    "for char in text :\n",
    "    if char.isalpha():\n",
    "        if char in vowels :\n",
    "            v_count+=1\n",
    "        else:\n",
    "            c_count+=1\n",
    "print(\"vowels of given word are\",v_count)\n",
    "print(\"consonants of given word are\",c_count)"
   ]
  },
  {
   "cell_type": "code",
   "execution_count": 3,
   "id": "76a70012-072f-4723-a87d-9d14b5c1d5a8",
   "metadata": {},
   "outputs": [
    {
     "name": "stdout",
     "output_type": "stream",
     "text": [
      "Enter Matrix A:\n"
     ]
    },
    {
     "name": "stdin",
     "output_type": "stream",
     "text": [
      "How many rows in Matrix A?  2\n",
      "How many columns in Matrix A?  3\n"
     ]
    },
    {
     "name": "stdout",
     "output_type": "stream",
     "text": [
      "Enter elements for Matrix A row by row:\n",
      "row 1 :\n"
     ]
    },
    {
     "name": "stdin",
     "output_type": "stream",
     "text": [
      "Enter value 2\n",
      "Enter value 3\n",
      "Enter value 4\n"
     ]
    },
    {
     "name": "stdout",
     "output_type": "stream",
     "text": [
      "row 2 :\n"
     ]
    },
    {
     "name": "stdin",
     "output_type": "stream",
     "text": [
      "Enter value 5\n",
      "Enter value 6\n",
      "Enter value 7\n"
     ]
    },
    {
     "name": "stdout",
     "output_type": "stream",
     "text": [
      "Enter Matrix B:\n"
     ]
    },
    {
     "name": "stdin",
     "output_type": "stream",
     "text": [
      "How many rows in Matrix B?  3\n",
      "How many columns in Matrix B?  2\n"
     ]
    },
    {
     "name": "stdout",
     "output_type": "stream",
     "text": [
      "Enter elements for Matrix B row by row:\n",
      "row 1 :\n"
     ]
    },
    {
     "name": "stdin",
     "output_type": "stream",
     "text": [
      "Enter value 1\n",
      "Enter value 3\n"
     ]
    },
    {
     "name": "stdout",
     "output_type": "stream",
     "text": [
      "row 2 :\n"
     ]
    },
    {
     "name": "stdin",
     "output_type": "stream",
     "text": [
      "Enter value 5\n",
      "Enter value 7\n"
     ]
    },
    {
     "name": "stdout",
     "output_type": "stream",
     "text": [
      "row 3 :\n"
     ]
    },
    {
     "name": "stdin",
     "output_type": "stream",
     "text": [
      "Enter value 7\n",
      "Enter value 9\n"
     ]
    },
    {
     "name": "stdout",
     "output_type": "stream",
     "text": [
      " Result \n",
      "[45, 63]\n",
      "[84, 120]\n"
     ]
    }
   ],
   "source": [
    "def q2(matrix):\n",
    "    rows = int(input(\"How many rows in \" + matrix + \"? \"))\n",
    "    cols = int(input(\"How many columns in \" + matrix + \"? \"))\n",
    "    print(\"Enter elements for \" + matrix + \" row by row:\")\n",
    "    matrix = []\n",
    "    for i in range(rows):\n",
    "        print(\"row\", i + 1, \":\")\n",
    "        row = []\n",
    "        for j in range(cols):\n",
    "            value = int(input(\"Enter value\"))\n",
    "            row.append(value)\n",
    "        matrix.append(row)\n",
    "    return matrix, rows, cols\n",
    "print(\"Enter Matrix A:\")\n",
    "A, a_rows, a_cols = q2(\"Matrix A\")\n",
    "print(\"Enter Matrix B:\")\n",
    "B, b_rows, b_cols = q2(\"Matrix B\")\n",
    "if a_cols != b_rows:\n",
    "    print(\" Error: Cannot multiply\")\n",
    "else:\n",
    "    result = []\n",
    "    for i in range(a_rows):\n",
    "        row = []\n",
    "        for j in range(b_cols):\n",
    "            total = 0\n",
    "            for k in range(a_cols):\n",
    "                total += A[i][k] * B[k][j]\n",
    "            row.append(total)\n",
    "        result.append(row)\n",
    "    print(\" Result \")\n",
    "    for row in result:\n",
    "        print(row)"
   ]
  },
  {
   "cell_type": "code",
   "execution_count": 4,
   "id": "ec78bbe4-902c-48d5-a8eb-f2e7bfdf2aba",
   "metadata": {},
   "outputs": [
    {
     "name": "stdin",
     "output_type": "stream",
     "text": [
      "enter elements of first list 2 4 5\n",
      "enter elements of second list 4 5 7\n"
     ]
    },
    {
     "name": "stdout",
     "output_type": "stream",
     "text": [
      "no of common elements are 2\n"
     ]
    }
   ],
   "source": [
    "list1=list(map(int,input(\"enter elements of first list\").split()))\n",
    "list2=list(map(int,input(\"enter elements of second list\").split()))\n",
    "common = set(list1) & set(list2)\n",
    "print(\"no of common elements are\",len(common))"
   ]
  },
  {
   "cell_type": "code",
   "execution_count": 7,
   "id": "ba774666-b5fc-4452-a251-678bd49f2698",
   "metadata": {},
   "outputs": [
    {
     "name": "stdin",
     "output_type": "stream",
     "text": [
      "enter the no of rows 2\n",
      "enter the no of coloumns 2\n"
     ]
    },
    {
     "name": "stdout",
     "output_type": "stream",
     "text": [
      "enter row wise\n"
     ]
    },
    {
     "name": "stdin",
     "output_type": "stream",
     "text": [
      " 2 4\n",
      " 4 6\n"
     ]
    },
    {
     "name": "stdout",
     "output_type": "stream",
     "text": [
      "transpose of the matrix\n",
      "[2, 4]\n",
      "[4, 6]\n"
     ]
    }
   ],
   "source": [
    "rows=int(input(\"enter the no of rows\"))\n",
    "cols=int(input(\"enter the no of coloumns\"))\n",
    "matrix=[]\n",
    "print(\"enter row wise\")\n",
    "for _ in range(rows):\n",
    "    row= list(map(int,input().split()))\n",
    "    matrix.append(row)\n",
    "transpose = [[matrix[j][i]for j in range(rows)]for i in range(cols)]\n",
    "print(\"transpose of the matrix\")\n",
    "for row in transpose : \n",
    "    print(row)"
   ]
  },
  {
   "cell_type": "code",
   "execution_count": 8,
   "id": "9a14e6ea-793c-4ed8-8b99-72a4bd387b29",
   "metadata": {},
   "outputs": [
    {
     "name": "stdout",
     "output_type": "stream",
     "text": [
      "Generated numbers: [137, 127, 126, 146, 127, 113, 136, 107, 132, 124, 145, 113, 101, 133, 123, 148, 119, 149, 134, 112, 138, 139, 140, 101, 143, 110, 107, 121, 107, 109, 141, 111, 126, 137, 139, 134, 117, 110, 124, 143, 129, 109, 104, 148, 101, 126, 140, 141, 147, 129, 127, 107, 149, 127, 122, 109, 147, 114, 136, 136, 111, 121, 137, 149, 144, 103, 118, 107, 130, 127, 139, 144, 109, 142, 102, 130, 122, 113, 149, 139, 145, 123, 120, 120, 148, 142, 145, 130, 145, 137, 133, 123, 127, 116, 150, 113, 129, 120, 136, 121]\n",
      "Mean: 127.56\n",
      "Median: 127.0\n",
      "Mode: 127\n"
     ]
    }
   ],
   "source": [
    "import random \n",
    "import statistics\n",
    "numbers = [random.randint(100, 150) for _ in range(100)]\n",
    "print(\"Generated numbers:\", numbers)\n",
    "print(\"Mean:\", statistics.mean(numbers))\n",
    "print(\"Median:\", statistics.median(numbers))\n",
    "print(\"Mode:\", statistics.mode(numbers))"
   ]
  },
  {
   "cell_type": "code",
   "execution_count": null,
   "id": "78356d20-8ed9-42e5-a1fd-a05e08326de3",
   "metadata": {},
   "outputs": [],
   "source": []
  }
 ],
 "metadata": {
  "kernelspec": {
   "display_name": "Python [conda env:base] *",
   "language": "python",
   "name": "conda-base-py"
  },
  "language_info": {
   "codemirror_mode": {
    "name": "ipython",
    "version": 3
   },
   "file_extension": ".py",
   "mimetype": "text/x-python",
   "name": "python",
   "nbconvert_exporter": "python",
   "pygments_lexer": "ipython3",
   "version": "3.13.5"
  }
 },
 "nbformat": 4,
 "nbformat_minor": 5
}
